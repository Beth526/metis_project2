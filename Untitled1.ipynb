{
 "cells": [
  {
   "cell_type": "code",
   "execution_count": null,
   "metadata": {},
   "outputs": [],
   "source": [
    "#\n",
    "\n",
    "p = PolynomialFeatures()\n",
    "\n",
    "X_train_poly = p.fit_transform(X_train)\n",
    "\n",
    "\n",
    "import statsmodels.api as sm\n",
    "\n",
    "Y_sm = np.array(y_train)\n",
    "\n",
    "X_sm = X_train_poly\n",
    "\n",
    "model = sm.OLS(Y_sm, sm.add_constant(X_sm)) \n",
    "\n",
    "fit = model.fit()\n",
    "\n",
    "fit.summary()\n",
    "\n",
    "# the code below gives you all the feature names for the coefficients created by poly!\n",
    "\n",
    "poly_features_names = p.get_feature_names(X_train.columns)\n",
    "\n",
    "#the code below is a list of the features from fi\n",
    "\n",
    "highly_sig_poly_features = [i for i in range(len(fit.pvalues)) if fit.pvalues[i] < 0.01]\n",
    "\n",
    "[poly_features_names[i] for i in highly_sig_poly_features]"
   ]
  }
 ],
 "metadata": {
  "kernelspec": {
   "display_name": "Python 3",
   "language": "python",
   "name": "python3"
  },
  "language_info": {
   "codemirror_mode": {
    "name": "ipython",
    "version": 3
   },
   "file_extension": ".py",
   "mimetype": "text/x-python",
   "name": "python",
   "nbconvert_exporter": "python",
   "pygments_lexer": "ipython3",
   "version": "3.7.6"
  }
 },
 "nbformat": 4,
 "nbformat_minor": 4
}
